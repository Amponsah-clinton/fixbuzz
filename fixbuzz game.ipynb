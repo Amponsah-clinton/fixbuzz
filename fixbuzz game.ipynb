{
 "cells": [
  {
   "cell_type": "code",
   "execution_count": 12,
   "id": "a17c1735-99ee-4a5d-b962-0ee600bc130d",
   "metadata": {},
   "outputs": [
    {
     "name": "stdin",
     "output_type": "stream",
     "text": [
      "Enter your number -30\n"
     ]
    },
    {
     "name": "stdout",
     "output_type": "stream",
     "text": [
      "FIXBUZZ\n"
     ]
    }
   ],
   "source": [
    "def fixbuzz():\n",
    "    x=int(input(\"Enter your number\"))\n",
    "    if x%5==0 and x%3==0:\n",
    "        print(\"FIXBUZZ\")\n",
    "    elif x%5==0:\n",
    "        print(\"BUZZ\")\n",
    "    elif x%3==0:\n",
    "        print(\"FIX\")\n",
    "    else:\n",
    "        print(x)\n",
    "fixbuzz()"
   ]
  },
  {
   "cell_type": "code",
   "execution_count": 39,
   "id": "e2bf0e4e-d2d3-42ae-8999-8f63d594ad58",
   "metadata": {},
   "outputs": [
    {
     "name": "stdout",
     "output_type": "stream",
     "text": [
      "['h', 'e', 'l', 'l', 'o', ' ', 'a', 'm', 'p', 'o', 'n', 's', 'a', 'h']\n",
      "['h', 'l', 'o', 'a', 'p', 'n', 'a']\n",
      "[0, 2, 4, 6, 8, 10, 12, 14, 16, 18, 20]\n",
      "2\n",
      "[5, 6, 6, 6, 6, 6]\n"
     ]
    }
   ],
   "source": [
    "# printing every letter\n",
    "char=list(\"hello amponsah\")\n",
    "print(char)\n",
    "\n",
    "# printing every two letters of a string\n",
    "print(char[::2])\n",
    "\n",
    "#even numbers printing\n",
    "z=list(range(0,20+1))\n",
    "print(z[::2])\n",
    "\n",
    "# packing items\n",
    "b=(2,3,4,5,6,6,6,6,6)\n",
    "first,second,third,*other=b\n",
    "print(first)\n",
    "print(other)"
   ]
  },
  {
   "cell_type": "code",
   "execution_count": null,
   "id": "86a3b472-b66e-493e-bc59-cc30d988ac26",
   "metadata": {},
   "outputs": [],
   "source": []
  },
  {
   "cell_type": "code",
   "execution_count": null,
   "id": "f724dc57-8873-4000-8ed2-86c03f58aa87",
   "metadata": {},
   "outputs": [],
   "source": []
  }
 ],
 "metadata": {
  "kernelspec": {
   "display_name": "Python 3 (ipykernel)",
   "language": "python",
   "name": "python3"
  },
  "language_info": {
   "codemirror_mode": {
    "name": "ipython",
    "version": 3
   },
   "file_extension": ".py",
   "mimetype": "text/x-python",
   "name": "python",
   "nbconvert_exporter": "python",
   "pygments_lexer": "ipython3",
   "version": "3.9.12"
  }
 },
 "nbformat": 4,
 "nbformat_minor": 5
}
